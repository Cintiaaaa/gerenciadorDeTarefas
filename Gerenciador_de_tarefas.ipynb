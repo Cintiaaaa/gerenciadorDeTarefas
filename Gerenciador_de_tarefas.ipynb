{
  "nbformat": 4,
  "nbformat_minor": 0,
  "metadata": {
    "colab": {
      "provenance": [],
      "include_colab_link": true
    },
    "kernelspec": {
      "name": "python3",
      "display_name": "Python 3"
    },
    "language_info": {
      "name": "python"
    }
  },
  "cells": [
    {
      "cell_type": "markdown",
      "metadata": {
        "id": "view-in-github",
        "colab_type": "text"
      },
      "source": [
        "<a href=\"https://colab.research.google.com/github/Cintiaaaa/gerenciadorDeTarefas/blob/main/Gerenciador_de_tarefas.ipynb\" target=\"_parent\"><img src=\"https://colab.research.google.com/assets/colab-badge.svg\" alt=\"Open In Colab\"/></a>"
      ]
    },
    {
      "cell_type": "code",
      "source": [
        "print(\"Seja bem-vindo ao seu gerenciador de tarefas\")\n",
        "print(\"\\n\")\n",
        "opcaoMenu = 0\n",
        "def menu():\n",
        "  print(\"Menu: \")\n",
        "  print(\"1.Adicionar Tarefa \")\n",
        "  print(\"2.Marcar Tarefa como Concluída \")\n",
        "  print(\"3.Remover Tarefa\")\n",
        "  print(\"4.Visualizar Tarefas Pendentes \")\n",
        "  print(\"5.Sair do Sistema\")\n",
        "\n",
        "menu()\n",
        "listaDeTarefas = []\n",
        "opcaoMenu = int(input(\"Qual opção você deseja escolher ?\"))\n",
        "\n",
        "while True:\n",
        "\n",
        "  if opcaoMenu == 1:\n",
        "    print(\"A opção escolhida foi 1.Adicionar Tarefa\")\n",
        "    tarefa = input(\"Digite a tarefa que deseja adicionar\")\n",
        "    listaDeTarefas.append(tarefa)\n",
        "    print(\"Essa é a sua lista de tarefas atualizada: \" + listaDeTarefas)\n",
        "    print(\"\\n\")\n",
        "    menu()\n",
        "    opcaoMenu = int(input(\"Qual opção você deseja escolher ?\"))\n",
        "\n",
        "  elif opcaoMenu == 2:\n",
        "    print(\"A opção escolhida foi 2.Marcar Tarefa como Concluída \")\n",
        "    print(listaDeTarefas)\n",
        "    tarefa = input(\"Digite a tarefa que deseja marcar como concluída\")\n",
        "    print(\"A tarefa \" + tarefa + \" foi concluída com sucesso\" )\n",
        "    listaDeTarefas.remove(tarefa)\n",
        "    print(\"Essa é a sua lista de tarefas atualizada: \" + listaDeTarefas)\n",
        "    print(\"\\n\")\n",
        "    menu()\n",
        "    opcaoMenu = int(input(\"Qual opção você deseja escolher ?\"))\n",
        "\n",
        "  elif opcaoMenu == 3:\n",
        "    print(\"A opção escolhida foi 3.Remover Tarefa\")\n",
        "    print(listaDeTarefas)\n",
        "    tarefa = input(\"Qual tarefa deseja remover ?\")\n",
        "    listaDeTarefas.remove(tarefa)\n",
        "    print(\"Essa é a sua lista de tarefas atualizada: \" + listaDeTarefas)\n",
        "    print(\"\\n\")\n",
        "    menu()\n",
        "    opcaoMenu = int(input(\"Qual opção você deseja escolher ?\"))\n",
        "\n",
        "  elif opcaoMenu == 4:\n",
        "    print(\"A opção escolhida foi 4.Visualizar tarefas pendentes\")\n",
        "    print(\"Essa é a sua lista de tarefas atualizada: \" + listaDeTarefas)\n",
        "    print(\"\\n\")\n",
        "    menu()\n",
        "    opcaoMenu = int(input(\"Qual opção você deseja escolher ?\"))\n",
        "\n",
        "  elif opcaoMenu == 5:\n",
        "    print(\"A opção escolhida foi 5.Sair do sistema \")\n",
        "    verificacao = input(\"Tem certeza que deseja sair ?\")\n",
        "    if verificacao == \"sim\":\n",
        "      break\n",
        "    else:\n",
        "      print(\"\\n\")\n",
        "      menu()\n",
        "    opcaoMenu = int(input(\"Qual opção você deseja escolher ?\"))"
      ],
      "metadata": {
        "colab": {
          "base_uri": "https://localhost:8080/"
        },
        "id": "67zaf72dSAbL",
        "outputId": "e019f88d-e9ae-408c-b335-61b8d4507f32"
      },
      "execution_count": null,
      "outputs": [
        {
          "output_type": "stream",
          "name": "stdout",
          "text": [
            "Seja bem-vindo ao seu gerenciador de tarefas\n",
            "Menu: \n",
            "1.Adicionar Tarefa \n",
            "2.Marcar Tarefa como Concluída \n",
            "3.Remover Tarefa\n",
            "4.Visualizar Tarefas Pendentes \n",
            "5.Sair do Sistema\n"
          ]
        }
      ]
    },
    {
      "cell_type": "code",
      "source": [],
      "metadata": {
        "id": "LBOVTRU9SGqm"
      },
      "execution_count": null,
      "outputs": []
    }
  ]
}